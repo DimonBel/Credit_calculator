{
 "cells": [
  {
   "cell_type": "code",
   "execution_count": 1,
   "metadata": {},
   "outputs": [
    {
     "name": "stderr",
     "output_type": "stream",
     "text": [
      "c:\\Users\\Duma\\AppData\\Local\\Programs\\Python\\Python312\\Lib\\site-packages\\tqdm\\auto.py:21: TqdmWarning: IProgress not found. Please update jupyter and ipywidgets. See https://ipywidgets.readthedocs.io/en/stable/user_install.html\n",
      "  from .autonotebook import tqdm as notebook_tqdm\n"
     ]
    }
   ],
   "source": [
    "# Python\n",
    "import pandas as pd\n",
    "from prophet import Prophet\n"
   ]
  },
  {
   "cell_type": "code",
   "execution_count": 2,
   "metadata": {},
   "outputs": [],
   "source": [
    "df = pd.read_csv('MPRIME.csv')\n",
    "da = pd.read_csv('US House Price Dataset.csv')"
   ]
  },
  {
   "cell_type": "code",
   "execution_count": 3,
   "metadata": {},
   "outputs": [
    {
     "data": {
      "text/html": [
       "<div>\n",
       "<style scoped>\n",
       "    .dataframe tbody tr th:only-of-type {\n",
       "        vertical-align: middle;\n",
       "    }\n",
       "\n",
       "    .dataframe tbody tr th {\n",
       "        vertical-align: top;\n",
       "    }\n",
       "\n",
       "    .dataframe thead th {\n",
       "        text-align: right;\n",
       "    }\n",
       "</style>\n",
       "<table border=\"1\" class=\"dataframe\">\n",
       "  <thead>\n",
       "    <tr style=\"text-align: right;\">\n",
       "      <th></th>\n",
       "      <th>date</th>\n",
       "      <th>value</th>\n",
       "    </tr>\n",
       "  </thead>\n",
       "  <tbody>\n",
       "    <tr>\n",
       "      <th>0</th>\n",
       "      <td>1949-01-01</td>\n",
       "      <td>2.0</td>\n",
       "    </tr>\n",
       "    <tr>\n",
       "      <th>1</th>\n",
       "      <td>1949-02-01</td>\n",
       "      <td>2.0</td>\n",
       "    </tr>\n",
       "    <tr>\n",
       "      <th>2</th>\n",
       "      <td>1949-03-01</td>\n",
       "      <td>2.0</td>\n",
       "    </tr>\n",
       "    <tr>\n",
       "      <th>3</th>\n",
       "      <td>1949-04-01</td>\n",
       "      <td>2.0</td>\n",
       "    </tr>\n",
       "    <tr>\n",
       "      <th>4</th>\n",
       "      <td>1949-05-01</td>\n",
       "      <td>2.0</td>\n",
       "    </tr>\n",
       "  </tbody>\n",
       "</table>\n",
       "</div>"
      ],
      "text/plain": [
       "         date  value\n",
       "0  1949-01-01    2.0\n",
       "1  1949-02-01    2.0\n",
       "2  1949-03-01    2.0\n",
       "3  1949-04-01    2.0\n",
       "4  1949-05-01    2.0"
      ]
     },
     "execution_count": 3,
     "metadata": {},
     "output_type": "execute_result"
    }
   ],
   "source": [
    "df = df.drop(columns=['realtime_start', 'realtime_end'])\n",
    "df.head()"
   ]
  },
  {
   "cell_type": "code",
   "execution_count": 4,
   "metadata": {},
   "outputs": [
    {
     "data": {
      "text/html": [
       "<div>\n",
       "<style scoped>\n",
       "    .dataframe tbody tr th:only-of-type {\n",
       "        vertical-align: middle;\n",
       "    }\n",
       "\n",
       "    .dataframe tbody tr th {\n",
       "        vertical-align: top;\n",
       "    }\n",
       "\n",
       "    .dataframe thead th {\n",
       "        text-align: right;\n",
       "    }\n",
       "</style>\n",
       "<table border=\"1\" class=\"dataframe\">\n",
       "  <thead>\n",
       "    <tr style=\"text-align: right;\">\n",
       "      <th></th>\n",
       "      <th>observation_date</th>\n",
       "      <th>FEDFUNDS</th>\n",
       "      <th>DSPIC96</th>\n",
       "      <th>DPRIME</th>\n",
       "    </tr>\n",
       "  </thead>\n",
       "  <tbody>\n",
       "    <tr>\n",
       "      <th>0</th>\n",
       "      <td>1/1/2000</td>\n",
       "      <td>5.45</td>\n",
       "      <td>9799.9</td>\n",
       "      <td>8.50</td>\n",
       "    </tr>\n",
       "    <tr>\n",
       "      <th>1</th>\n",
       "      <td>2/1/2000</td>\n",
       "      <td>5.73</td>\n",
       "      <td>9837.9</td>\n",
       "      <td>8.73</td>\n",
       "    </tr>\n",
       "    <tr>\n",
       "      <th>2</th>\n",
       "      <td>3/1/2000</td>\n",
       "      <td>5.85</td>\n",
       "      <td>9864.0</td>\n",
       "      <td>8.84</td>\n",
       "    </tr>\n",
       "    <tr>\n",
       "      <th>3</th>\n",
       "      <td>4/1/2000</td>\n",
       "      <td>6.02</td>\n",
       "      <td>9913.7</td>\n",
       "      <td>9.00</td>\n",
       "    </tr>\n",
       "    <tr>\n",
       "      <th>4</th>\n",
       "      <td>5/1/2000</td>\n",
       "      <td>6.27</td>\n",
       "      <td>9954.5</td>\n",
       "      <td>9.23</td>\n",
       "    </tr>\n",
       "  </tbody>\n",
       "</table>\n",
       "</div>"
      ],
      "text/plain": [
       "  observation_date  FEDFUNDS  DSPIC96  DPRIME\n",
       "0         1/1/2000      5.45   9799.9    8.50\n",
       "1         2/1/2000      5.73   9837.9    8.73\n",
       "2         3/1/2000      5.85   9864.0    8.84\n",
       "3         4/1/2000      6.02   9913.7    9.00\n",
       "4         5/1/2000      6.27   9954.5    9.23"
      ]
     },
     "execution_count": 4,
     "metadata": {},
     "output_type": "execute_result"
    }
   ],
   "source": [
    "da.drop(['CSUSHPISA', 'PERMIT', 'TTLCONS', 'MSACSR','UNRATE','UNRATE','PPIACO','HOUST','CNP16OV','UMCSENT','MEDCPIM158SFRBCLE', 'PSAVERT','CIVPART', 'ETOTALUSQ176N','A939RX0Q048SBEA','MSPUS','DRALACBN'], axis=1, inplace=True)\n",
    "da.head()"
   ]
  },
  {
   "cell_type": "code",
   "execution_count": 5,
   "metadata": {},
   "outputs": [
    {
     "data": {
      "text/html": [
       "<div>\n",
       "<style scoped>\n",
       "    .dataframe tbody tr th:only-of-type {\n",
       "        vertical-align: middle;\n",
       "    }\n",
       "\n",
       "    .dataframe tbody tr th {\n",
       "        vertical-align: top;\n",
       "    }\n",
       "\n",
       "    .dataframe thead th {\n",
       "        text-align: right;\n",
       "    }\n",
       "</style>\n",
       "<table border=\"1\" class=\"dataframe\">\n",
       "  <thead>\n",
       "    <tr style=\"text-align: right;\">\n",
       "      <th></th>\n",
       "      <th>observation_date</th>\n",
       "      <th>DPRIME</th>\n",
       "    </tr>\n",
       "  </thead>\n",
       "  <tbody>\n",
       "    <tr>\n",
       "      <th>0</th>\n",
       "      <td>1/1/2000</td>\n",
       "      <td>8.50</td>\n",
       "    </tr>\n",
       "    <tr>\n",
       "      <th>1</th>\n",
       "      <td>2/1/2000</td>\n",
       "      <td>8.73</td>\n",
       "    </tr>\n",
       "    <tr>\n",
       "      <th>2</th>\n",
       "      <td>3/1/2000</td>\n",
       "      <td>8.84</td>\n",
       "    </tr>\n",
       "    <tr>\n",
       "      <th>3</th>\n",
       "      <td>4/1/2000</td>\n",
       "      <td>9.00</td>\n",
       "    </tr>\n",
       "    <tr>\n",
       "      <th>4</th>\n",
       "      <td>5/1/2000</td>\n",
       "      <td>9.23</td>\n",
       "    </tr>\n",
       "  </tbody>\n",
       "</table>\n",
       "</div>"
      ],
      "text/plain": [
       "  observation_date  DPRIME\n",
       "0         1/1/2000    8.50\n",
       "1         2/1/2000    8.73\n",
       "2         3/1/2000    8.84\n",
       "3         4/1/2000    9.00\n",
       "4         5/1/2000    9.23"
      ]
     },
     "execution_count": 5,
     "metadata": {},
     "output_type": "execute_result"
    }
   ],
   "source": [
    "da.drop(['DSPIC96', 'FEDFUNDS'], axis=1, inplace=True)\n",
    "da.head()"
   ]
  },
  {
   "cell_type": "code",
   "execution_count": 6,
   "metadata": {},
   "outputs": [
    {
     "name": "stdout",
     "output_type": "stream",
     "text": [
      "    observation_date  DPRIME\n",
      "0         2000-01-01    8.50\n",
      "1         2000-02-01    8.73\n",
      "2         2000-03-01    8.84\n",
      "3         2000-04-01    9.00\n",
      "4         2000-05-01    9.23\n",
      "..               ...     ...\n",
      "278       2023-03-01    7.83\n",
      "279       2023-04-01    8.00\n",
      "280       2023-05-01    8.22\n",
      "281       2023-06-01    8.25\n",
      "282       2023-07-01    8.29\n",
      "\n",
      "[283 rows x 2 columns]\n"
     ]
    }
   ],
   "source": [
    "da['observation_date'] = pd.to_datetime(da['observation_date'], format='%m/%d/%Y')\n",
    "\n",
    "# Выводим результат\n",
    "print(da)"
   ]
  },
  {
   "cell_type": "code",
   "execution_count": 7,
   "metadata": {},
   "outputs": [
    {
     "name": "stdout",
     "output_type": "stream",
     "text": [
      "          date  value\n",
      "0   2000-01-01   8.50\n",
      "1   2000-02-01   8.73\n",
      "2   2000-03-01   8.84\n",
      "3   2000-04-01   9.00\n",
      "4   2000-05-01   9.23\n",
      "..         ...    ...\n",
      "278 2023-03-01   7.83\n",
      "279 2023-04-01   8.00\n",
      "280 2023-05-01   8.22\n",
      "281 2023-06-01   8.25\n",
      "282 2023-07-01   8.29\n",
      "\n",
      "[283 rows x 2 columns]\n"
     ]
    }
   ],
   "source": [
    "da = da.rename(columns={'observation_date': 'date'})\n",
    "da = da.rename(columns={'DPRIME': 'value'})\n",
    "print(da)"
   ]
  },
  {
   "cell_type": "code",
   "execution_count": 8,
   "metadata": {},
   "outputs": [
    {
     "name": "stdout",
     "output_type": "stream",
     "text": [
      "           date  value\n",
      "0    1949-01-01   2.00\n",
      "1    1949-02-01   2.00\n",
      "2    1949-03-01   2.00\n",
      "3    1949-04-01   2.00\n",
      "4    1949-05-01   2.00\n",
      "..          ...    ...\n",
      "607  1999-08-01   8.06\n",
      "608  1999-09-01   8.25\n",
      "609  1999-10-01   8.25\n",
      "610  1999-11-01   8.37\n",
      "611  1999-12-01   8.50\n",
      "\n",
      "[612 rows x 2 columns]\n"
     ]
    }
   ],
   "source": [
    "df = df.iloc[:612]\n",
    "\n",
    "print(df)"
   ]
  },
  {
   "cell_type": "code",
   "execution_count": 9,
   "metadata": {},
   "outputs": [],
   "source": [
    "df['date'] = pd.to_datetime(df['date'])"
   ]
  },
  {
   "cell_type": "code",
   "execution_count": 10,
   "metadata": {},
   "outputs": [
    {
     "name": "stdout",
     "output_type": "stream",
     "text": [
      "          date  value\n",
      "0   2000-01-01   8.50\n",
      "1   2000-02-01   8.73\n",
      "2   2000-03-01   8.84\n",
      "3   2000-04-01   9.00\n",
      "4   2000-05-01   9.23\n",
      "..         ...    ...\n",
      "278 2023-03-01   7.83\n",
      "279 2023-04-01   8.00\n",
      "280 2023-05-01   8.22\n",
      "281 2023-06-01   8.25\n",
      "282 2023-07-01   8.29\n",
      "\n",
      "[283 rows x 2 columns]\n"
     ]
    }
   ],
   "source": [
    "print(da)"
   ]
  },
  {
   "cell_type": "code",
   "execution_count": 11,
   "metadata": {},
   "outputs": [
    {
     "name": "stdout",
     "output_type": "stream",
     "text": [
      "          date  value\n",
      "0   1949-01-01   2.00\n",
      "1   1949-02-01   2.00\n",
      "2   1949-03-01   2.00\n",
      "3   1949-04-01   2.00\n",
      "4   1949-05-01   2.00\n",
      "..         ...    ...\n",
      "278 2023-03-01   7.83\n",
      "279 2023-04-01   8.00\n",
      "280 2023-05-01   8.22\n",
      "281 2023-06-01   8.25\n",
      "282 2023-07-01   8.29\n",
      "\n",
      "[895 rows x 2 columns]\n"
     ]
    }
   ],
   "source": [
    "merged_df = pd.concat([df, da])\n",
    "\n",
    "# Печатаем объединенную таблицу\n",
    "print(merged_df)"
   ]
  },
  {
   "cell_type": "code",
   "execution_count": 12,
   "metadata": {},
   "outputs": [
    {
     "name": "stdout",
     "output_type": "stream",
     "text": [
      "          date  value\n",
      "0   1949-01-01   2.00\n",
      "1   1949-02-01   2.00\n",
      "2   1949-03-01   2.00\n",
      "3   1949-04-01   2.00\n",
      "4   1949-05-01   2.00\n",
      "..         ...    ...\n",
      "890 2023-03-01   7.83\n",
      "891 2023-04-01   8.00\n",
      "892 2023-05-01   8.22\n",
      "893 2023-06-01   8.25\n",
      "894 2023-07-01   8.29\n",
      "\n",
      "[895 rows x 2 columns]\n"
     ]
    }
   ],
   "source": [
    "import pandas as pd\n",
    "\n",
    "# Предполагается, что ваш датафрейм называется df\n",
    "\n",
    "# Удаляем индексы слева\n",
    "merged_df = merged_df.reset_index(drop=True)\n",
    "\n",
    "# Печатаем датафрейм без индексов слева\n",
    "print(merged_df)\n"
   ]
  },
  {
   "cell_type": "code",
   "execution_count": 13,
   "metadata": {},
   "outputs": [
    {
     "data": {
      "text/html": [
       "<div>\n",
       "<style scoped>\n",
       "    .dataframe tbody tr th:only-of-type {\n",
       "        vertical-align: middle;\n",
       "    }\n",
       "\n",
       "    .dataframe tbody tr th {\n",
       "        vertical-align: top;\n",
       "    }\n",
       "\n",
       "    .dataframe thead th {\n",
       "        text-align: right;\n",
       "    }\n",
       "</style>\n",
       "<table border=\"1\" class=\"dataframe\">\n",
       "  <thead>\n",
       "    <tr style=\"text-align: right;\">\n",
       "      <th></th>\n",
       "      <th>ds</th>\n",
       "      <th>y</th>\n",
       "    </tr>\n",
       "  </thead>\n",
       "  <tbody>\n",
       "    <tr>\n",
       "      <th>0</th>\n",
       "      <td>1949-01-01</td>\n",
       "      <td>2.0</td>\n",
       "    </tr>\n",
       "    <tr>\n",
       "      <th>1</th>\n",
       "      <td>1949-02-01</td>\n",
       "      <td>2.0</td>\n",
       "    </tr>\n",
       "    <tr>\n",
       "      <th>2</th>\n",
       "      <td>1949-03-01</td>\n",
       "      <td>2.0</td>\n",
       "    </tr>\n",
       "    <tr>\n",
       "      <th>3</th>\n",
       "      <td>1949-04-01</td>\n",
       "      <td>2.0</td>\n",
       "    </tr>\n",
       "    <tr>\n",
       "      <th>4</th>\n",
       "      <td>1949-05-01</td>\n",
       "      <td>2.0</td>\n",
       "    </tr>\n",
       "  </tbody>\n",
       "</table>\n",
       "</div>"
      ],
      "text/plain": [
       "          ds    y\n",
       "0 1949-01-01  2.0\n",
       "1 1949-02-01  2.0\n",
       "2 1949-03-01  2.0\n",
       "3 1949-04-01  2.0\n",
       "4 1949-05-01  2.0"
      ]
     },
     "execution_count": 13,
     "metadata": {},
     "output_type": "execute_result"
    }
   ],
   "source": [
    "merged_df.rename(columns={'date': 'ds', 'value': 'y'}, inplace=True)\n",
    "merged_df.head()"
   ]
  },
  {
   "cell_type": "code",
   "execution_count": 14,
   "metadata": {},
   "outputs": [
    {
     "name": "stdout",
     "output_type": "stream",
     "text": [
      "Empty DataFrame\n",
      "Columns: [ds, y]\n",
      "Index: []\n"
     ]
    },
    {
     "data": {
      "text/html": [
       "<div>\n",
       "<style scoped>\n",
       "    .dataframe tbody tr th:only-of-type {\n",
       "        vertical-align: middle;\n",
       "    }\n",
       "\n",
       "    .dataframe tbody tr th {\n",
       "        vertical-align: top;\n",
       "    }\n",
       "\n",
       "    .dataframe thead th {\n",
       "        text-align: right;\n",
       "    }\n",
       "</style>\n",
       "<table border=\"1\" class=\"dataframe\">\n",
       "  <thead>\n",
       "    <tr style=\"text-align: right;\">\n",
       "      <th></th>\n",
       "      <th>ds</th>\n",
       "      <th>y</th>\n",
       "    </tr>\n",
       "  </thead>\n",
       "  <tbody>\n",
       "    <tr>\n",
       "      <th>0</th>\n",
       "      <td>1949-01-01</td>\n",
       "      <td>2.0</td>\n",
       "    </tr>\n",
       "    <tr>\n",
       "      <th>1</th>\n",
       "      <td>1949-02-01</td>\n",
       "      <td>2.0</td>\n",
       "    </tr>\n",
       "    <tr>\n",
       "      <th>2</th>\n",
       "      <td>1949-03-01</td>\n",
       "      <td>2.0</td>\n",
       "    </tr>\n",
       "    <tr>\n",
       "      <th>3</th>\n",
       "      <td>1949-04-01</td>\n",
       "      <td>2.0</td>\n",
       "    </tr>\n",
       "    <tr>\n",
       "      <th>4</th>\n",
       "      <td>1949-05-01</td>\n",
       "      <td>2.0</td>\n",
       "    </tr>\n",
       "  </tbody>\n",
       "</table>\n",
       "</div>"
      ],
      "text/plain": [
       "          ds    y\n",
       "0 1949-01-01  2.0\n",
       "1 1949-02-01  2.0\n",
       "2 1949-03-01  2.0\n",
       "3 1949-04-01  2.0\n",
       "4 1949-05-01  2.0"
      ]
     },
     "execution_count": 14,
     "metadata": {},
     "output_type": "execute_result"
    }
   ],
   "source": [
    "# Find the row(s) containing the problematic value\n",
    "problematic_rows = merged_df[merged_df['y'] == \".\"]\n",
    "\n",
    "# Print the problematic rows\n",
    "print(problematic_rows)\n",
    "\n",
    "# Depending on your data, you can either remove the problematic rows or replace the problematic value with a suitable alternative.\n",
    "\n",
    "# For example, to remove the problematic rows:\n",
    "merged_df = merged_df[merged_df['y'] != \".\"]\n",
    "\n",
    "# Or to replace the problematic value with NaN:\n",
    "merged_df['y'] = merged_df['y'].replace(\".\", float('nan'))\n",
    "merged_df.head()"
   ]
  },
  {
   "cell_type": "code",
   "execution_count": 15,
   "metadata": {},
   "outputs": [
    {
     "name": "stderr",
     "output_type": "stream",
     "text": [
      "03:24:13 - cmdstanpy - INFO - Chain [1] start processing\n",
      "03:24:13 - cmdstanpy - INFO - Chain [1] done processing\n"
     ]
    },
    {
     "data": {
      "text/plain": [
       "<prophet.forecaster.Prophet at 0x1a57853d760>"
      ]
     },
     "execution_count": 15,
     "metadata": {},
     "output_type": "execute_result"
    }
   ],
   "source": [
    "# Python\n",
    "m1 = Prophet()\n",
    "m1.fit(merged_df)"
   ]
  },
  {
   "cell_type": "code",
   "execution_count": 16,
   "metadata": {},
   "outputs": [
    {
     "data": {
      "text/html": [
       "<div>\n",
       "<style scoped>\n",
       "    .dataframe tbody tr th:only-of-type {\n",
       "        vertical-align: middle;\n",
       "    }\n",
       "\n",
       "    .dataframe tbody tr th {\n",
       "        vertical-align: top;\n",
       "    }\n",
       "\n",
       "    .dataframe thead th {\n",
       "        text-align: right;\n",
       "    }\n",
       "</style>\n",
       "<table border=\"1\" class=\"dataframe\">\n",
       "  <thead>\n",
       "    <tr style=\"text-align: right;\">\n",
       "      <th></th>\n",
       "      <th>ds</th>\n",
       "    </tr>\n",
       "  </thead>\n",
       "  <tbody>\n",
       "    <tr>\n",
       "      <th>1257</th>\n",
       "      <td>2024-06-28</td>\n",
       "    </tr>\n",
       "    <tr>\n",
       "      <th>1258</th>\n",
       "      <td>2024-06-29</td>\n",
       "    </tr>\n",
       "    <tr>\n",
       "      <th>1259</th>\n",
       "      <td>2024-06-30</td>\n",
       "    </tr>\n",
       "  </tbody>\n",
       "</table>\n",
       "</div>"
      ],
      "text/plain": [
       "             ds\n",
       "1257 2024-06-28\n",
       "1258 2024-06-29\n",
       "1259 2024-06-30"
      ]
     },
     "execution_count": 16,
     "metadata": {},
     "output_type": "execute_result"
    }
   ],
   "source": [
    "future = m1.make_future_dataframe(periods=365)\n",
    "future.tail(n=3)"
   ]
  },
  {
   "cell_type": "code",
   "execution_count": 17,
   "metadata": {},
   "outputs": [
    {
     "data": {
      "text/html": [
       "<div>\n",
       "<style scoped>\n",
       "    .dataframe tbody tr th:only-of-type {\n",
       "        vertical-align: middle;\n",
       "    }\n",
       "\n",
       "    .dataframe tbody tr th {\n",
       "        vertical-align: top;\n",
       "    }\n",
       "\n",
       "    .dataframe thead th {\n",
       "        text-align: right;\n",
       "    }\n",
       "</style>\n",
       "<table border=\"1\" class=\"dataframe\">\n",
       "  <thead>\n",
       "    <tr style=\"text-align: right;\">\n",
       "      <th></th>\n",
       "      <th>ds</th>\n",
       "      <th>trend</th>\n",
       "      <th>yhat_lower</th>\n",
       "      <th>yhat_upper</th>\n",
       "      <th>trend_lower</th>\n",
       "      <th>trend_upper</th>\n",
       "      <th>additive_terms</th>\n",
       "      <th>additive_terms_lower</th>\n",
       "      <th>additive_terms_upper</th>\n",
       "      <th>yearly</th>\n",
       "      <th>yearly_lower</th>\n",
       "      <th>yearly_upper</th>\n",
       "      <th>multiplicative_terms</th>\n",
       "      <th>multiplicative_terms_lower</th>\n",
       "      <th>multiplicative_terms_upper</th>\n",
       "      <th>yhat</th>\n",
       "    </tr>\n",
       "  </thead>\n",
       "  <tbody>\n",
       "    <tr>\n",
       "      <th>1257</th>\n",
       "      <td>2024-06-28</td>\n",
       "      <td>3.587186</td>\n",
       "      <td>1.370660</td>\n",
       "      <td>6.057003</td>\n",
       "      <td>3.580048</td>\n",
       "      <td>3.592178</td>\n",
       "      <td>0.193752</td>\n",
       "      <td>0.193752</td>\n",
       "      <td>0.193752</td>\n",
       "      <td>0.193752</td>\n",
       "      <td>0.193752</td>\n",
       "      <td>0.193752</td>\n",
       "      <td>0.0</td>\n",
       "      <td>0.0</td>\n",
       "      <td>0.0</td>\n",
       "      <td>3.780937</td>\n",
       "    </tr>\n",
       "    <tr>\n",
       "      <th>1258</th>\n",
       "      <td>2024-06-29</td>\n",
       "      <td>3.586979</td>\n",
       "      <td>1.383281</td>\n",
       "      <td>6.200536</td>\n",
       "      <td>3.579804</td>\n",
       "      <td>3.592018</td>\n",
       "      <td>0.155292</td>\n",
       "      <td>0.155292</td>\n",
       "      <td>0.155292</td>\n",
       "      <td>0.155292</td>\n",
       "      <td>0.155292</td>\n",
       "      <td>0.155292</td>\n",
       "      <td>0.0</td>\n",
       "      <td>0.0</td>\n",
       "      <td>0.0</td>\n",
       "      <td>3.742271</td>\n",
       "    </tr>\n",
       "    <tr>\n",
       "      <th>1259</th>\n",
       "      <td>2024-06-30</td>\n",
       "      <td>3.586772</td>\n",
       "      <td>1.373608</td>\n",
       "      <td>6.236551</td>\n",
       "      <td>3.579561</td>\n",
       "      <td>3.591849</td>\n",
       "      <td>0.101985</td>\n",
       "      <td>0.101985</td>\n",
       "      <td>0.101985</td>\n",
       "      <td>0.101985</td>\n",
       "      <td>0.101985</td>\n",
       "      <td>0.101985</td>\n",
       "      <td>0.0</td>\n",
       "      <td>0.0</td>\n",
       "      <td>0.0</td>\n",
       "      <td>3.688757</td>\n",
       "    </tr>\n",
       "  </tbody>\n",
       "</table>\n",
       "</div>"
      ],
      "text/plain": [
       "             ds     trend  yhat_lower  yhat_upper  trend_lower  trend_upper  \\\n",
       "1257 2024-06-28  3.587186    1.370660    6.057003     3.580048     3.592178   \n",
       "1258 2024-06-29  3.586979    1.383281    6.200536     3.579804     3.592018   \n",
       "1259 2024-06-30  3.586772    1.373608    6.236551     3.579561     3.591849   \n",
       "\n",
       "      additive_terms  additive_terms_lower  additive_terms_upper    yearly  \\\n",
       "1257        0.193752              0.193752              0.193752  0.193752   \n",
       "1258        0.155292              0.155292              0.155292  0.155292   \n",
       "1259        0.101985              0.101985              0.101985  0.101985   \n",
       "\n",
       "      yearly_lower  yearly_upper  multiplicative_terms  \\\n",
       "1257      0.193752      0.193752                   0.0   \n",
       "1258      0.155292      0.155292                   0.0   \n",
       "1259      0.101985      0.101985                   0.0   \n",
       "\n",
       "      multiplicative_terms_lower  multiplicative_terms_upper      yhat  \n",
       "1257                         0.0                         0.0  3.780937  \n",
       "1258                         0.0                         0.0  3.742271  \n",
       "1259                         0.0                         0.0  3.688757  "
      ]
     },
     "execution_count": 17,
     "metadata": {},
     "output_type": "execute_result"
    }
   ],
   "source": [
    "forecast = m1.predict(future)\n",
    "forecast.tail(n=3)"
   ]
  },
  {
   "cell_type": "code",
   "execution_count": 18,
   "metadata": {},
   "outputs": [
    {
     "data": {
      "text/html": [
       "<div>\n",
       "<style scoped>\n",
       "    .dataframe tbody tr th:only-of-type {\n",
       "        vertical-align: middle;\n",
       "    }\n",
       "\n",
       "    .dataframe tbody tr th {\n",
       "        vertical-align: top;\n",
       "    }\n",
       "\n",
       "    .dataframe thead th {\n",
       "        text-align: right;\n",
       "    }\n",
       "</style>\n",
       "<table border=\"1\" class=\"dataframe\">\n",
       "  <thead>\n",
       "    <tr style=\"text-align: right;\">\n",
       "      <th></th>\n",
       "      <th>ds</th>\n",
       "      <th>yhat</th>\n",
       "      <th>yhat_lower</th>\n",
       "      <th>yhat_upper</th>\n",
       "    </tr>\n",
       "  </thead>\n",
       "  <tbody>\n",
       "    <tr>\n",
       "      <th>895</th>\n",
       "      <td>2023-07-02</td>\n",
       "      <td>3.677001</td>\n",
       "      <td>1.320418</td>\n",
       "      <td>6.082327</td>\n",
       "    </tr>\n",
       "    <tr>\n",
       "      <th>896</th>\n",
       "      <td>2023-07-03</td>\n",
       "      <td>3.591693</td>\n",
       "      <td>1.368648</td>\n",
       "      <td>5.919695</td>\n",
       "    </tr>\n",
       "    <tr>\n",
       "      <th>897</th>\n",
       "      <td>2023-07-04</td>\n",
       "      <td>3.493871</td>\n",
       "      <td>1.220215</td>\n",
       "      <td>6.069866</td>\n",
       "    </tr>\n",
       "    <tr>\n",
       "      <th>898</th>\n",
       "      <td>2023-07-05</td>\n",
       "      <td>3.385064</td>\n",
       "      <td>1.033155</td>\n",
       "      <td>5.582526</td>\n",
       "    </tr>\n",
       "    <tr>\n",
       "      <th>899</th>\n",
       "      <td>2023-07-06</td>\n",
       "      <td>3.267147</td>\n",
       "      <td>0.852074</td>\n",
       "      <td>5.637022</td>\n",
       "    </tr>\n",
       "    <tr>\n",
       "      <th>...</th>\n",
       "      <td>...</td>\n",
       "      <td>...</td>\n",
       "      <td>...</td>\n",
       "      <td>...</td>\n",
       "    </tr>\n",
       "    <tr>\n",
       "      <th>1255</th>\n",
       "      <td>2024-06-26</td>\n",
       "      <td>3.814545</td>\n",
       "      <td>1.438730</td>\n",
       "      <td>6.071803</td>\n",
       "    </tr>\n",
       "    <tr>\n",
       "      <th>1256</th>\n",
       "      <td>2024-06-27</td>\n",
       "      <td>3.804867</td>\n",
       "      <td>1.394467</td>\n",
       "      <td>6.147512</td>\n",
       "    </tr>\n",
       "    <tr>\n",
       "      <th>1257</th>\n",
       "      <td>2024-06-28</td>\n",
       "      <td>3.780937</td>\n",
       "      <td>1.453016</td>\n",
       "      <td>6.088061</td>\n",
       "    </tr>\n",
       "    <tr>\n",
       "      <th>1258</th>\n",
       "      <td>2024-06-29</td>\n",
       "      <td>3.742271</td>\n",
       "      <td>1.300210</td>\n",
       "      <td>6.147248</td>\n",
       "    </tr>\n",
       "    <tr>\n",
       "      <th>1259</th>\n",
       "      <td>2024-06-30</td>\n",
       "      <td>3.688757</td>\n",
       "      <td>1.460957</td>\n",
       "      <td>5.987436</td>\n",
       "    </tr>\n",
       "  </tbody>\n",
       "</table>\n",
       "<p>365 rows × 4 columns</p>\n",
       "</div>"
      ],
      "text/plain": [
       "             ds      yhat  yhat_lower  yhat_upper\n",
       "895  2023-07-02  3.677001    1.320418    6.082327\n",
       "896  2023-07-03  3.591693    1.368648    5.919695\n",
       "897  2023-07-04  3.493871    1.220215    6.069866\n",
       "898  2023-07-05  3.385064    1.033155    5.582526\n",
       "899  2023-07-06  3.267147    0.852074    5.637022\n",
       "...         ...       ...         ...         ...\n",
       "1255 2024-06-26  3.814545    1.438730    6.071803\n",
       "1256 2024-06-27  3.804867    1.394467    6.147512\n",
       "1257 2024-06-28  3.780937    1.453016    6.088061\n",
       "1258 2024-06-29  3.742271    1.300210    6.147248\n",
       "1259 2024-06-30  3.688757    1.460957    5.987436\n",
       "\n",
       "[365 rows x 4 columns]"
      ]
     },
     "execution_count": 18,
     "metadata": {},
     "output_type": "execute_result"
    }
   ],
   "source": [
    "forecast = m1.predict(future)\n",
    "forecast[['ds', 'yhat', 'yhat_lower', 'yhat_upper']].tail(n=365)\n"
   ]
  },
  {
   "cell_type": "code",
   "execution_count": 19,
   "metadata": {},
   "outputs": [
    {
     "name": "stderr",
     "output_type": "stream",
     "text": [
      "c:\\Users\\Duma\\AppData\\Local\\Programs\\Python\\Python312\\Lib\\site-packages\\prophet\\plot.py:72: FutureWarning: The behavior of DatetimeProperties.to_pydatetime is deprecated, in a future version this will return a Series containing python datetime objects instead of an ndarray. To retain the old behavior, call `np.array` on the result\n",
      "  fcst_t = fcst['ds'].dt.to_pydatetime()\n",
      "c:\\Users\\Duma\\AppData\\Local\\Programs\\Python\\Python312\\Lib\\site-packages\\prophet\\plot.py:73: FutureWarning: The behavior of DatetimeProperties.to_pydatetime is deprecated, in a future version this will return a Series containing python datetime objects instead of an ndarray. To retain the old behavior, call `np.array` on the result\n",
      "  ax.plot(m.history['ds'].dt.to_pydatetime(), m.history['y'], 'k.',\n"
     ]
    },
    {
     "data": {
      "image/png": "[encoded data removed]",
      "text/plain": [
       "<Figure size 1000x600 with 1 Axes>"
      ]
     },
     "metadata": {},
     "output_type": "display_data"
    }
   ],
   "source": [
    "fig1 = m1.plot(forecast)"
   ]
  },
  {
   "cell_type": "code",
   "execution_count": 20,
   "metadata": {},
   "outputs": [
    {
     "name": "stderr",
     "output_type": "stream",
     "text": [
      "c:\\Users\\Duma\\AppData\\Local\\Programs\\Python\\Python312\\Lib\\site-packages\\prophet\\plot.py:228: FutureWarning: The behavior of DatetimeProperties.to_pydatetime is deprecated, in a future version this will return a Series containing python datetime objects instead of an ndarray. To retain the old behavior, call `np.array` on the result\n",
      "  fcst_t = fcst['ds'].dt.to_pydatetime()\n",
      "c:\\Users\\Duma\\AppData\\Local\\Programs\\Python\\Python312\\Lib\\site-packages\\prophet\\plot.py:351: FutureWarning: The behavior of DatetimeProperties.to_pydatetime is deprecated, in a future version this will return a Series containing python datetime objects instead of an ndarray. To retain the old behavior, call `np.array` on the result\n",
      "  df_y['ds'].dt.to_pydatetime(), seas[name], ls='-', c='#0072B2')\n",
      "c:\\Users\\Duma\\AppData\\Local\\Programs\\Python\\Python312\\Lib\\site-packages\\prophet\\plot.py:354: FutureWarning: The behavior of DatetimeProperties.to_pydatetime is deprecated, in a future version this will return a Series containing python datetime objects instead of an ndarray. To retain the old behavior, call `np.array` on the result\n",
      "  df_y['ds'].dt.to_pydatetime(), seas[name + '_lower'],\n"
     ]
    },
    {
     "data": {
      "image/png": "[encoded data removed]",
      "text/plain": [
       "<Figure size 900x600 with 2 Axes>"
      ]
     },
     "metadata": {},
     "output_type": "display_data"
    }
   ],
   "source": [
    "m1.plot_components(forecast);"
   ]
  },
  {
   "cell_type": "code",
   "execution_count": 21,
   "metadata": {},
   "outputs": [],
   "source": [
    "import pandas as pd\n",
    "\n",
    "# Отфильтровать только строки с первым днем каждого месяца\n",
    "first_day_of_month = forecast[forecast['ds'].dt.day == 1]\n",
    "\n",
    "# Записать данные в файл\n",
    "first_day_of_month[['ds', 'yhat_upper']].to_csv('yhat_upper_first_day_of_month.csv', index=False)\n"
   ]
  },
  {
   "cell_type": "code",
   "execution_count": 22,
   "metadata": {},
   "outputs": [],
   "source": [
    "# Открыть текстовый файл для записи\n",
    "with open('input23.txt', 'w') as file:\n",
    "    # Пройтись по каждой строке в dataframe\n",
    "    for index, row in first_day_of_month.iterrows():\n",
    "        # Записать в файл только значение yhat_upper и перевести строку\n",
    "        file.write(str(row['yhat_upper']) + '\\n')\n"
   ]
  },
  {
   "cell_type": "code",
   "execution_count": 23,
   "metadata": {},
   "outputs": [
    {
     "ename": "",
     "evalue": "",
     "output_type": "error",
     "traceback": [
      "\u001b[1;31mПри выполнении кода в текущей ячейке или предыдущей ячейке ядро аварийно завершило работу. \n",
      "\u001b[1;31mПроверьте код в ячейках, чтобы определить возможную причину сбоя. \n",
      "\u001b[1;31mЩелкните <a href='https://aka.ms/vscodeJupyterKernelCrash'>здесь</a>, чтобы получить дополнительные сведения. \n",
      "\u001b[1;31mПодробнее см. в <a href='command:jupyter.viewOutput'>журнале Jupyter</a>."
     ]
    }
   ],
   "source": [
    "# Открыть текстовый файл для чтения\n",
    "with open('input23.txt', 'r') as file:\n",
    "    # Прочитать все строки из файла\n",
    "    lines = file.readlines()\n",
    "\n",
    "# Получить последние 12 строк\n",
    "last_12_lines = lines[-12:]\n",
    "\n",
    "# Открыть новый текстовый файл для записи последних 12 строк с добавленными запятыми\n",
    "with open('input2.txt', 'w') as file:\n",
    "    # Записать последние 12 строк с запятыми в новый файл\n",
    "    for line in last_12_lines:\n",
    "        # Добавить запятую после каждого числа и перевод строки\n",
    "        line_with_comma = line.strip() + ','\n",
    "        file.write(line_with_comma)\n"
   ]
  }
 ],
 "metadata": {
  "kernelspec": {
   "display_name": "Python 3",
   "language": "python",
   "name": "python3"
  },
  "language_info": {
   "codemirror_mode": {
    "name": "ipython",
    "version": 3
   },
   "file_extension": ".py",
   "mimetype": "text/x-python",
   "name": "python",
   "nbconvert_exporter": "python",
   "pygments_lexer": "ipython3",
   "version": "3.12.0"
  }
 },
 "nbformat": 4,
 "nbformat_minor": 2
}
